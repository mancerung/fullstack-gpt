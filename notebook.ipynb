{
 "cells": [
  {
   "cell_type": "code",
   "execution_count": 1,
   "id": "c68bda4e",
   "metadata": {},
   "outputs": [
    {
     "name": "stdout",
     "output_type": "stream",
     "text": [
      "Elegant syntax flows,\n",
      "C# dances with logic's code,\n",
      "Crafting worlds in lines.This haiku beautifully captures the essence of programming in C#. The first line sets the tone with \"Elegant syntax flows,\" suggesting a sense of grace and precision in writing code. The second line, \"C# dances with logic's code,\" personifies the programming language as it interacts with the logical structures of a program. Finally, the last line, \"Crafting worlds in lines,\" speaks to the power of coding to create entire virtual worlds through lines of code. Overall, this haiku celebrates the artistry and creativity involved in programming with C#."
     ]
    },
    {
     "data": {
      "text/plain": [
       "AIMessageChunk(content='This haiku beautifully captures the essence of programming in C#. The first line sets the tone with \"Elegant syntax flows,\" suggesting a sense of grace and precision in writing code. The second line, \"C# dances with logic\\'s code,\" personifies the programming language as it interacts with the logical structures of a program. Finally, the last line, \"Crafting worlds in lines,\" speaks to the power of coding to create entire virtual worlds through lines of code. Overall, this haiku celebrates the artistry and creativity involved in programming with C#.')"
      ]
     },
     "execution_count": 1,
     "metadata": {},
     "output_type": "execute_result"
    }
   ],
   "source": [
    "from langchain.chat_models import ChatOpenAI\n",
    "from langchain.prompts import ChatPromptTemplate\n",
    "from langchain.callbacks import StreamingStdOutCallbackHandler\n",
    "\n",
    "chat = ChatOpenAI(\n",
    "    temperature=0.1,\n",
    "    streaming=True,\n",
    "    callbacks=[\n",
    "        StreamingStdOutCallbackHandler(),\n",
    "    ],\n",
    ")\n",
    "\n",
    "haiku_prompt = ChatPromptTemplate.from_messages(\n",
    "    [\n",
    "        (\n",
    "            \"system\",\n",
    "            \"You are a world-class Haiku writer who is good at capturing the characteristics of things and abstracting them.\",\n",
    "        ),\n",
    "        (\"human\", \"I want to get a haiku about program language {lang}.\"),\n",
    "    ]\n",
    ")\n",
    "\n",
    "haiku_chain = haiku_prompt | chat\n",
    "\n",
    "explain_prompt = ChatPromptTemplate.from_messages(\n",
    "    [\n",
    "        (\n",
    "            \"system\",\n",
    "            \"You are an expert at interpreting and explaining haiku well.\",\n",
    "        ),\n",
    "        (\"human\", \"{haiku}\"),\n",
    "    ]\n",
    ")\n",
    "\n",
    "\n",
    "explain_chain = explain_prompt | chat\n",
    "\n",
    "\n",
    "final_chain = {\"haiku\": haiku_chain} | explain_chain\n",
    "\n",
    "final_chain.invoke({\"lang\": \"C#\"})"
   ]
  },
  {
   "cell_type": "code",
   "execution_count": null,
   "id": "2d5d1393",
   "metadata": {},
   "outputs": [],
   "source": []
  },
  {
   "cell_type": "code",
   "execution_count": null,
   "id": "ce8cc893",
   "metadata": {},
   "outputs": [],
   "source": []
  },
  {
   "cell_type": "code",
   "execution_count": null,
   "id": "4dab0a70",
   "metadata": {},
   "outputs": [],
   "source": []
  }
 ],
 "metadata": {
  "kernelspec": {
   "display_name": "env (3.8.20)",
   "language": "python",
   "name": "python3"
  },
  "language_info": {
   "codemirror_mode": {
    "name": "ipython",
    "version": 3
   },
   "file_extension": ".py",
   "mimetype": "text/x-python",
   "name": "python",
   "nbconvert_exporter": "python",
   "pygments_lexer": "ipython3",
   "version": "3.11.14"
  }
 },
 "nbformat": 4,
 "nbformat_minor": 5
}
