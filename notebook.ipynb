{
 "cells": [
  {
   "cell_type": "code",
   "execution_count": 1,
   "id": "c68bda4e",
   "metadata": {},
   "outputs": [
    {
     "name": "stdout",
     "output_type": "stream",
     "text": [
      "\n",
      "        I know this:\n",
      "        Director: Ben Stiller\n",
      "        MainCast: Ben Stiller, Kristen Wiig, Sean Penn\n",
      "        Budget: $90 million\n",
      "        BoxOfficeRevenu: $188.3 million\n",
      "        Genre: Comedy, Drama, Adventure\n",
      "        Synopsis: A daydreamer escapes his mundane life through vivid fantasies, but embarks on a real-life adventure to find a missing photograph.\n",
      "        Rating: 7.3 / 10"
     ]
    },
    {
     "data": {
      "text/plain": [
       "AIMessageChunk(content='\\n        I know this:\\n        Director: Ben Stiller\\n        MainCast: Ben Stiller, Kristen Wiig, Sean Penn\\n        Budget: $90 million\\n        BoxOfficeRevenu: $188.3 million\\n        Genre: Comedy, Drama, Adventure\\n        Synopsis: A daydreamer escapes his mundane life through vivid fantasies, but embarks on a real-life adventure to find a missing photograph.\\n        Rating: 7.3 / 10')"
      ]
     },
     "execution_count": 1,
     "metadata": {},
     "output_type": "execute_result"
    }
   ],
   "source": [
    "from langchain.chat_models import ChatOpenAI\n",
    "from langchain.prompts.few_shot import FewShotChatMessagePromptTemplate\n",
    "from langchain.callbacks import StreamingStdOutCallbackHandler\n",
    "from langchain.prompts import ChatMessagePromptTemplate, ChatPromptTemplate\n",
    "\n",
    "chat = ChatOpenAI(\n",
    "    temperature=0.1,\n",
    "    streaming=True,\n",
    "    callbacks=[\n",
    "        StreamingStdOutCallbackHandler(),\n",
    "    ],\n",
    ")\n",
    "\n",
    "\n",
    "examples = [\n",
    "    {\n",
    "        \"movie\": \"Inception\",\n",
    "        \"answer\": \"\"\"\n",
    "        Here is what I know:\n",
    "        Director: Christopher Nolan\n",
    "        MainCast: Leonardo DiCaprio, Joseph Gordon-Levitt, Ellen Page, Tom Hardy\n",
    "        Budget: $160 million\n",
    "        BoxOfficeRevenu: $837.8 million\n",
    "        Genre: Science Fiction, Action, Thriller\n",
    "        Synopsis: A skilled thief who steals secrets through dream-sharing technology is given the ultimate task: to plant an idea into a target’s subconscious.\n",
    "        Rating: 8.8 / 10\n",
    "        \"\"\",\n",
    "    },\n",
    "    {\n",
    "        \"movie\": \"Parasite\",\n",
    "        \"answer\": \"\"\"\n",
    "        I know this:\n",
    "        Director: Bong Joon-ho\n",
    "        MainCast: Song Kang-ho, Lee Sun-kyun, Cho Yeo-jeong, Choi Woo-shik\n",
    "        Budget: $15.5 million\n",
    "        BoxOfficeRevenu: $266.9 million\n",
    "        Genre: Thriller, Drama, Dark Comedy\n",
    "        Synopsis: A poor family schemes to infiltrate a wealthy household by posing as qualified workers, leading to unexpected consequences.\n",
    "        Rating: 8.5 / 10\n",
    "        \"\"\",\n",
    "    },\n",
    "    {\n",
    "        \"movie\": \"Avatar\",\n",
    "        \"answer\": \"\"\"\n",
    "        I know this:\n",
    "        Director: James Cameron\n",
    "        MainCast: Sam Worthington, Zoe Saldaña, Sigourney Weaver\n",
    "        Budget: $237 million\n",
    "        BoxOfficeRevenu: $2.923 billion\n",
    "        Genre: Science Fiction, Adventure, Action\n",
    "        Synopsis: A paraplegic ex-marine is sent to the alien world of Pandora, where he becomes torn between following orders and protecting a new home he grows to love.\n",
    "        Rating: 7.9 / 10\n",
    "        \"\"\",\n",
    "    },\n",
    "]\n",
    "\n",
    "\n",
    "example_prompt = ChatPromptTemplate.from_messages(\n",
    "    [\n",
    "        (\"human\", \"What do you know about {movie}?\"),\n",
    "        (\"ai\", \"{answer}\"),\n",
    "    ]\n",
    ")\n",
    "\n",
    "example_prompt = FewShotChatMessagePromptTemplate(\n",
    "    example_prompt=example_prompt,\n",
    "    examples=examples,\n",
    ")\n",
    "\n",
    "final_prompt = ChatPromptTemplate.from_messages(\n",
    "    [\n",
    "        (\"system\", \"You are a film critic, you give short answers.\"),\n",
    "        example_prompt,\n",
    "        (\"human\", \"What do you know about {movie}?\"),\n",
    "    ]\n",
    ")\n",
    "\n",
    "chain = final_prompt | chat\n",
    "\n",
    "chain.invoke({\"movie\": \"The Secret Life of Walter Mitty\"})"
   ]
  },
  {
   "cell_type": "code",
   "execution_count": null,
   "id": "d8b53c8f",
   "metadata": {},
   "outputs": [],
   "source": []
  }
 ],
 "metadata": {
  "kernelspec": {
   "display_name": "env (3.8.20)",
   "language": "python",
   "name": "python3"
  },
  "language_info": {
   "codemirror_mode": {
    "name": "ipython",
    "version": 3
   },
   "file_extension": ".py",
   "mimetype": "text/x-python",
   "name": "python",
   "nbconvert_exporter": "python",
   "pygments_lexer": "ipython3",
   "version": "3.11.14"
  }
 },
 "nbformat": 4,
 "nbformat_minor": 5
}
