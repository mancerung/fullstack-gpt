{
 "cells": [
  {
   "cell_type": "code",
   "execution_count": null,
   "id": "c68bda4e",
   "metadata": {},
   "outputs": [],
   "source": [
    "from langchain.memory import ConversationSummaryBufferMemory\n",
    "from langchain.chat_models import ChatOpenAI\n",
    "from langchain.prompts.few_shot import FewShotChatMessagePromptTemplate\n",
    "from langchain.schema.runnable import RunnablePassthrough\n",
    "from langchain.prompts import ChatPromptTemplate, MessagesPlaceholder\n",
    "\n",
    "llm = ChatOpenAI(temperature=0.1)\n",
    "\n",
    "memory = ConversationSummaryBufferMemory(\n",
    "    llm=llm,\n",
    "    max_token_limit=200,\n",
    "    return_messages=True,\n",
    ")\n",
    "\n",
    "example_message_prompt = ChatPromptTemplate.from_messages(\n",
    "    [        \n",
    "        (\"human\", \"Express it with exactly 3 emoticons that symbolize the movie {movie}.\"),          \n",
    "        (\"ai\", \"{emogi}\"),\n",
    "    ]\n",
    ")\n",
    "\n",
    "examples = [\n",
    "    {\n",
    "        \"movie\": \"Top Gun\",\n",
    "        \"emogi\": \"🛩️👨‍✈️🔥\",\n",
    "    },\n",
    "    {\n",
    "        \"movie\": \"The Godfather\",\n",
    "        \"emogi\": \"👨‍👨‍👦🔫🍝\"\n",
    "        \n",
    "    },\n",
    "]\n",
    "\n",
    "few_shot_prompt = FewShotChatMessagePromptTemplate(\n",
    "    example_prompt=example_message_prompt,\n",
    "    examples=examples,\n",
    ")\n",
    "\n",
    "final_prompt = ChatPromptTemplate.from_messages(\n",
    "    [\n",
    "        (\"system\", \"You are a world-class movie critic.\"),\n",
    "        MessagesPlaceholder(variable_name=\"history\"),\n",
    "        few_shot_prompt,\n",
    "        (\"human\", \"{question}\"), \n",
    "    ]\n",
    ")\n",
    "\n",
    "def load_memory(_):\n",
    "    return memory.load_memory_variables({})[\"history\"]\n",
    "\n",
    "\n",
    "chain = RunnablePassthrough.assign(history=load_memory) | final_prompt | llm\n",
    "\n",
    "\n",
    "def invoke_chain(question):\n",
    "    result = chain.invoke({\"question\": question})\n",
    "    memory.save_context(\n",
    "        {\"input\": question},\n",
    "        {\"output\": result.content},\n",
    "    )\n",
    "    print(result)"
   ]
  },
  {
   "cell_type": "code",
   "execution_count": 43,
   "id": "d7ed5d90",
   "metadata": {},
   "outputs": [
    {
     "name": "stdout",
     "output_type": "stream",
     "text": [
      "[]\n"
     ]
    }
   ],
   "source": [
    "print(load_memory(_))"
   ]
  },
  {
   "cell_type": "code",
   "execution_count": 44,
   "id": "01d65c3c",
   "metadata": {},
   "outputs": [
    {
     "name": "stdout",
     "output_type": "stream",
     "text": [
      "content='🔴🎪💰'\n"
     ]
    }
   ],
   "source": [
    "invoke_chain(\"Squid Game\")"
   ]
  },
  {
   "cell_type": "code",
   "execution_count": 45,
   "id": "213aa6c6",
   "metadata": {},
   "outputs": [
    {
     "name": "stdout",
     "output_type": "stream",
     "text": [
      "[HumanMessage(content='Squid Game'), AIMessage(content='🔴🎪💰')]\n"
     ]
    }
   ],
   "source": [
    "print(load_memory(_))"
   ]
  },
  {
   "cell_type": "code",
   "execution_count": 46,
   "id": "b7938298",
   "metadata": {},
   "outputs": [
    {
     "name": "stdout",
     "output_type": "stream",
     "text": [
      "content='👦🔨📦'\n"
     ]
    }
   ],
   "source": [
    "invoke_chain(\"old boy\")"
   ]
  },
  {
   "cell_type": "code",
   "execution_count": 47,
   "id": "7f8e7345",
   "metadata": {},
   "outputs": [
    {
     "name": "stdout",
     "output_type": "stream",
     "text": [
      "[HumanMessage(content='Squid Game'), AIMessage(content='🔴🎪💰'), HumanMessage(content='old boy'), AIMessage(content='👦🔨📦')]\n"
     ]
    }
   ],
   "source": [
    "print(load_memory(_))"
   ]
  },
  {
   "cell_type": "code",
   "execution_count": 48,
   "id": "9f5143fe",
   "metadata": {},
   "outputs": [
    {
     "name": "stdout",
     "output_type": "stream",
     "text": [
      "content='1. Squid Game: 🔴🎪💰\\n2. Old Boy: 👦🔨📦\\n3. Top Gun: 🛩️👨\\u200d✈️🔥\\n4. The Godfather: 👨\\u200d👨\\u200d👦🔫🍝'\n"
     ]
    }
   ],
   "source": [
    "invoke_chain(\"tell me what are the movies I asked about before. Show me the emoticon you created, too.\")"
   ]
  },
  {
   "cell_type": "code",
   "execution_count": 49,
   "id": "a35efb5e",
   "metadata": {},
   "outputs": [
    {
     "name": "stdout",
     "output_type": "stream",
     "text": [
      "[SystemMessage(content='The human mentions \"Squid Game\" and the AI responds with emojis. The human then brings up \"Old Boy\" and the AI responds with emojis related to the movie.'), HumanMessage(content='tell me what are the movies I asked about before. Show me the emoticon you created, too.'), AIMessage(content='1. Squid Game: 🔴🎪💰\\n2. Old Boy: 👦🔨📦\\n3. Top Gun: 🛩️👨\\u200d✈️🔥\\n4. The Godfather: 👨\\u200d👨\\u200d👦🔫🍝')]\n"
     ]
    }
   ],
   "source": [
    "print(load_memory(_))"
   ]
  },
  {
   "cell_type": "code",
   "execution_count": 42,
   "id": "fcaad8e8",
   "metadata": {},
   "outputs": [],
   "source": [
    "memory.clear()"
   ]
  }
 ],
 "metadata": {
  "kernelspec": {
   "display_name": "env (3.8.20)",
   "language": "python",
   "name": "python3"
  },
  "language_info": {
   "codemirror_mode": {
    "name": "ipython",
    "version": 3
   },
   "file_extension": ".py",
   "mimetype": "text/x-python",
   "name": "python",
   "nbconvert_exporter": "python",
   "pygments_lexer": "ipython3",
   "version": "3.11.14"
  }
 },
 "nbformat": 4,
 "nbformat_minor": 5
}
